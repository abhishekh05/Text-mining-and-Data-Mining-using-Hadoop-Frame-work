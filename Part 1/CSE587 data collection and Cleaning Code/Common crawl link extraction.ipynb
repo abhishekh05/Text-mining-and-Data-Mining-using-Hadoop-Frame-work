{
 "cells": [
  {
   "cell_type": "code",
   "execution_count": null,
   "metadata": {},
   "outputs": [],
   "source": [
    "import re\n",
    "import pandas as pd\n",
    "import csv\n",
    "import requests\n",
    "from bs4 import BeautifulSoup"
   ]
  },
  {
   "cell_type": "code",
   "execution_count": null,
   "metadata": {},
   "outputs": [],
   "source": [
    "immigration =[]\n",
    "immigrants = []\n",
    "daca = []"
   ]
  },
  {
   "cell_type": "markdown",
   "metadata": {},
   "source": [
    "## Small Data"
   ]
  },
  {
   "cell_type": "code",
   "execution_count": null,
   "metadata": {},
   "outputs": [],
   "source": [
    "your_list=[]\n",
    "with open('common_crawl/washpostlinks.csv', 'r',encoding=\"utf8\") as f:\n",
    "    reader = csv.reader(f)\n",
    "    your_list = list(reader)\n",
    "for record in your_list:\n",
    "    result = re.match('.*immigrants.*', record[0])    \n",
    "    if result:\n",
    "        print(record[0])\n",
    "        immigrants.append(record[0])"
   ]
  },
  {
   "cell_type": "markdown",
   "metadata": {},
   "source": [
    "## Big Data"
   ]
  },
  {
   "cell_type": "code",
   "execution_count": null,
   "metadata": {},
   "outputs": [],
   "source": [
    "your_list=[]\n",
    "with open('common_crawl/reuters_links.csv', 'r',encoding=\"utf8\") as f:\n",
    "    reader = csv.reader(f)\n",
    "    your_list = list(reader)\n",
    "for record in your_list:\n",
    "    result = re.match('.*uscis.*', record[0])    \n",
    "    if result:\n",
    "        #print(record[0])\n",
    "        immigration.append(record[0])"
   ]
  },
  {
   "cell_type": "code",
   "execution_count": null,
   "metadata": {},
   "outputs": [],
   "source": [
    "len(immigration)"
   ]
  },
  {
   "cell_type": "code",
   "execution_count": null,
   "metadata": {},
   "outputs": [],
   "source": [
    "with open('common_crawl/immigration.csv', 'a') as csvFile:\n",
    "    writer = csv.writer(csvFile)\n",
    "    writer.writerows([immigration])\n",
    "csvFile.close()"
   ]
  },
  {
   "cell_type": "code",
   "execution_count": null,
   "metadata": {
    "scrolled": false
   },
   "outputs": [],
   "source": [
    "key_i = open(\"common_crawl/immigration_cc.txt\",\"a\",encoding=\"utf-8\") \n",
    "article =0\n",
    "for i in range(0,len(immigration)):\n",
    "    #print(i)\n",
    "    i= i+105\n",
    "    page_link = immigration[i]   \n",
    "    print(page_link)\n",
    "    try:\n",
    "        page_response = requests.get(page_link, timeout=5)\n",
    "        soup = BeautifulSoup(page_response.content, \"html.parser\")        \n",
    "        article+=1\n",
    "        print(article)\n",
    "        for  tag in range(0, len(soup.find_all(\"p\"))):\n",
    "                paragraphs = soup.find_all(\"p\")[tag].text\n",
    "                #print(paragraphs)\n",
    "                key_i.write(paragraphs)\n",
    "    except requests.exceptions.Timeout:\n",
    "        print(\"Timeout occurred\") \n",
    "key_i.close()"
   ]
  },
  {
   "cell_type": "code",
   "execution_count": null,
   "metadata": {},
   "outputs": [],
   "source": [
    "key_i.close()"
   ]
  },
  {
   "cell_type": "code",
   "execution_count": null,
   "metadata": {},
   "outputs": [],
   "source": []
  }
 ],
 "metadata": {
  "kernelspec": {
   "display_name": "Python 3",
   "language": "python",
   "name": "python3"
  },
  "language_info": {
   "codemirror_mode": {
    "name": "ipython",
    "version": 3
   },
   "file_extension": ".py",
   "mimetype": "text/x-python",
   "name": "python",
   "nbconvert_exporter": "python",
   "pygments_lexer": "ipython3",
   "version": "3.7.0"
  }
 },
 "nbformat": 4,
 "nbformat_minor": 2
}
