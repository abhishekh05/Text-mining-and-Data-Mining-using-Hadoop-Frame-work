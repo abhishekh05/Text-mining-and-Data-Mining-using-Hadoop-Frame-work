{
 "cells": [
  {
   "cell_type": "markdown",
   "metadata": {},
   "source": [
    "## Collecting Articles using New York Times API"
   ]
  },
  {
   "cell_type": "code",
   "execution_count": 3,
   "metadata": {},
   "outputs": [],
   "source": [
    "from tweepy.streaming import StreamListener\n",
    "from tweepy import OAuthHandler\n",
    "from tweepy import Stream\n",
    "from tweepy import cursor\n",
    "import json\n",
    "import pandas as pd\n",
    "import matplotlib.pyplot as plt\n",
    "from nytimesarticle import articleAPI\n",
    "import tweepy\n",
    "from bs4 import BeautifulSoup\n",
    "import requests\n",
    "import pandas as pd\n",
    "import csv\n",
    "import time"
   ]
  },
  {
   "cell_type": "code",
   "execution_count": 4,
   "metadata": {},
   "outputs": [],
   "source": [
    "api = articleAPI('9seo8sPL5rpxJkh1d49M32Vt07FACoIc')"
   ]
  },
  {
   "cell_type": "code",
   "execution_count": 7,
   "metadata": {},
   "outputs": [],
   "source": [
    "def parse_articles(articles):\n",
    "    '''\n",
    "    This function takes in a response to the NYT api and parses\n",
    "    the articles into a list of dictionaries\n",
    "    '''\n",
    "    news = []\n",
    "    for i in articles['response']['docs']:\n",
    "        dic = {}\n",
    "        dic['id'] = i['_id']\n",
    "#         if i['abstract'] is not None:\n",
    "#             dic['abstract'] = i['abstract'].encode(\"utf8\")\n",
    "        dic['headline'] = i['headline']['main'].encode(\"utf8\")\n",
    "        #dic['desk'] = i['news_desk']\n",
    "        dic['date'] = i['pub_date'][0:10] # cutting time of day.\n",
    "        dic['section'] = i['section_name']\n",
    "        if i['snippet'] is not None:\n",
    "            dic['snippet'] = i['snippet'].encode(\"utf8\")\n",
    "        #dic['source'] = i['source']\n",
    "     #   dic['type'] = i['type_of_material']\n",
    "        dic['url'] = i['web_url']\n",
    "        dic['word_count'] = i['word_count']\n",
    "        # locations\n",
    "        locations = []\n",
    "        for x in range(0,len(i['keywords'])):\n",
    "            if 'glocations' in i['keywords'][x]['name']:\n",
    "                locations.append(i['keywords'][x]['value'])\n",
    "        dic['locations'] = locations\n",
    "        # subject\n",
    "        subjects = []\n",
    "        for x in range(0,len(i['keywords'])):\n",
    "            if 'subject' in i['keywords'][x]['name']:\n",
    "                subjects.append(i['keywords'][x]['value'])\n",
    "        dic['subjects'] = subjects   \n",
    "        news.append(dic)\n",
    "    return(news) "
   ]
  },
  {
   "cell_type": "code",
   "execution_count": 5,
   "metadata": {},
   "outputs": [],
   "source": [
    "query_1= \"Immigrants\"\n",
    "query_2= \"Immigration\"\n",
    "query_3 =\"visa\"\n",
    "query_4 = \"policy\"\n",
    "query_5 = \"legal immigration\"\n",
    "query_6 = \"illegal immigration\"\n",
    "query_7 = \"immigration laws\"\n",
    "query_8 = \"Mexican Immigrants\"\n",
    "query_9 = \"daca\"\n",
    "query_10 = \"immigration crisis\"\n",
    "articles_1= api.search(q = query_1,begin_date = 20190328,end_date =20190404)\n",
    "articles_2= api.search(q = query_2,begin_date = 20190328,end_date =20190404)\n",
    "articles_3= api.search(q = query_3,begin_date = 20190328,end_date =20190404)\n",
    "articles_4= api.search(q = query_4,begin_date = 20190328,end_date =20190404)\n",
    "articles_5= api.search(q = query_5,begin_date = 20190328,end_date =20190404)\n",
    "articles_6= api.search(q = query_6,begin_date = 20190328,end_date =20190404)\n",
    "articles_7= api.search(q = query_7,begin_date = 20190328,end_date =20190404)\n",
    "articles_8 = api.search(q= query_8,begin_date = 20190328,end_date =20190404) \n",
    "articles_9 = api.search(q= query_9,begin_date = 20190328,end_date =20190404)\n",
    "articles_10=api.search(q=query_10,begin_date = 20190328,end_date =20190404)"
   ]
  },
  {
   "cell_type": "code",
   "execution_count": 8,
   "metadata": {},
   "outputs": [],
   "source": [
    "parsed_1 = parse_articles(articles_1)\n",
    "parsed_2 = parse_articles(articles_2)\n",
    "parsed_3 = parse_articles(articles_3)\n",
    "parsed_4 = parse_articles(articles_4)\n",
    "parsed_5 = parse_articles(articles_5)\n",
    "parsed_6 = parse_articles(articles_6)\n",
    "parsed_7 = parse_articles(articles_7)\n",
    "parsed_8 =  parse_articles(articles_8)\n",
    "parsed_9 =  parse_articles(articles_9 )\n",
    "parsed_10 =  parse_articles(articles_10)"
   ]
  },
  {
   "cell_type": "markdown",
   "metadata": {},
   "source": [
    "For different keywords we have made different files and made sure we do not have any duplicate articles in our text file. "
   ]
  },
  {
   "cell_type": "markdown",
   "metadata": {},
   "source": [
    "## Immigrants Key word and Code\n"
   ]
  },
  {
   "cell_type": "code",
   "execution_count": 14,
   "metadata": {},
   "outputs": [
    {
     "name": "stdout",
     "output_type": "stream",
     "text": [
      "['https://www.nytimes.com/2019/04/03/opinion/is-being-trans-like-being-an-immigrant.html', 'https://www.nytimes.com/2019/03/30/us/immigrants-forced-labor.html', 'https://www.nytimes.com/2019/04/03/business/economy/immigration-labor-economy.html', 'https://www.nytimes.com/2019/04/02/business/new-york-marketplace-remembers-its-immigrant-past.html', 'https://www.nytimes.com/2019/03/31/world/europe/italian-minister-pans-hit-song-by-an-immigrants-son.html', 'https://www.nytimes.com/2019/04/03/opinion/latino-voters.html', 'https://www.nytimes.com/2019/04/04/us/texas-immigration-raid.html', 'https://www.nytimes.com/2019/04/03/upshot/americas-biggest-economic-challenge-may-be-demographic-decline.html', 'https://www.nytimes.com/2019/04/04/lens/italian-american-williamsburg-brooklyn.html', 'https://www.nytimes.com/2019/03/28/us/border-patrol-agent-undocumented-immigrant.html']\n"
     ]
    },
    {
     "data": {
      "text/plain": [
       "10"
      ]
     },
     "execution_count": 14,
     "metadata": {},
     "output_type": "execute_result"
    }
   ],
   "source": [
    "immigrants_keyword=[]\n",
    "key1 = open(\"D:/Data Intensive Computing/Lab2/Ash data/DATA/NYT/immigrants\",\"a\",encoding=\"utf-8\") \n",
    "for i in range(0,len(parsed_1)):\n",
    "    page_link = parsed_1[i]['url']\n",
    "    immigrants_keyword.append(page_link)\n",
    "    page_response = requests.get(page_link, timeout=5)\n",
    "    soup = BeautifulSoup(page_response.content, \"html.parser\")        \n",
    "\n",
    "    for  tag in range(0, len(soup.find_all(\"p\"))):\n",
    "            paragraphs = soup.find_all(\"p\")[tag].text\n",
    "            #print(paragraphs)\n",
    "            key1.write(paragraphs)\n",
    "with open('D:/Data Intensive Computing/Lab2/Ash data/DATA/NYT/immigrants_nytimes.csv', 'a') as csvFile:\n",
    "    writer = csv.writer(csvFile)\n",
    "    writer.writerows([immigrants_keyword])\n",
    "key1.close()\n",
    "csvFile.close()\n",
    "print(immigrants_keyword)\n",
    "len(immigrants_keyword)"
   ]
  },
  {
   "cell_type": "markdown",
   "metadata": {},
   "source": [
    "## Immigration Key word and Code"
   ]
  },
  {
   "cell_type": "code",
   "execution_count": 16,
   "metadata": {},
   "outputs": [
    {
     "name": "stdout",
     "output_type": "stream",
     "text": [
      "['https://www.nytimes.com/2019/03/30/us/politics/beto-rally.html', 'https://www.nytimes.com/2019/04/04/us/texas-immigration-raid.html', 'https://www.nytimes.com/2019/03/31/nyregion/kalman-yeger-israel-palestine.html', 'https://www.nytimes.com/2019/04/02/opinion/letters/central-america-aid.html', 'https://www.nytimes.com/2019/04/02/world/americas/us-immigration-crackdown.html', 'https://www.nytimes.com/2019/03/29/us/trump-driver-chauffeur-ice-romania.html', 'https://www.nytimes.com/2019/03/28/world/asia/new-zealand-attacks-visas.html', 'https://www.nytimes.com/2019/04/01/opinion/trump-border-mexico.html', 'https://www.nytimes.com/2019/04/03/opinion/latino-voters.html', 'https://www.nytimes.com/2019/03/31/us/el-paso-bridge-migrants.html']\n"
     ]
    }
   ],
   "source": [
    "Immigration_keyword=[]\n",
    "key2 = open(\"D:/Data Intensive Computing/Lab2/Ash data/DATA/NYT/immigrantion1.txt\",\"a\",encoding=\"utf-8\") \n",
    "for i in range(0,len(parsed_2)):\n",
    "    page_link_i = parsed_2[i]['url']\n",
    "    Immigration_keyword.append(page_link_i)\n",
    "    page_response_i = requests.get(page_link_i, timeout=5)\n",
    "    soup = BeautifulSoup(page_response_i.content, \"html.parser\")        \n",
    "\n",
    "    for  tag in range(0, len(soup.find_all(\"p\"))):\n",
    "            paragraphs = soup.find_all(\"p\")[tag].text\n",
    "            key2.write(paragraphs)\n",
    "with open('D:/Data Intensive Computing/Lab2/Ash data/DATA/NYT/immigration_nytimes.csv', 'a') as csvFile:\n",
    "    writer = csv.writer(csvFile)\n",
    "    writer.writerows([Immigration_keyword])\n",
    "key2.close()\n",
    "csvFile.close()\n",
    "print(Immigration_keyword)"
   ]
  },
  {
   "cell_type": "code",
   "execution_count": 17,
   "metadata": {},
   "outputs": [
    {
     "data": {
      "text/plain": [
       "10"
      ]
     },
     "execution_count": 17,
     "metadata": {},
     "output_type": "execute_result"
    }
   ],
   "source": [
    "len(Immigration_keyword)"
   ]
  },
  {
   "cell_type": "markdown",
   "metadata": {},
   "source": [
    "## Visa Keyword"
   ]
  },
  {
   "cell_type": "code",
   "execution_count": 19,
   "metadata": {},
   "outputs": [
    {
     "name": "stdout",
     "output_type": "stream",
     "text": [
      "['https://www.nytimes.com/2019/04/01/world/americas/mexico-migration-border.html', 'https://www.nytimes.com/2019/04/03/learning/learning-with-in-afghanistan-we-laugh-differently.html', 'https://www.nytimes.com/2019/04/03/business/economy/immigration-labor-economy.html', 'https://www.nytimes.com/2019/04/02/magazine/ethicist-plagiarism-cheating-classmate.html', 'https://www.nytimes.com/2019/04/03/upshot/americas-biggest-economic-challenge-may-be-demographic-decline.html', 'https://www.nytimes.com/2019/03/29/us/trump-driver-chauffeur-ice-romania.html', 'https://www.nytimes.com/2019/03/28/world/asia/new-zealand-attacks-visas.html', 'https://www.nytimes.com/2019/03/31/world/africa/africa-trump-manafort-political-consultants.html', 'https://www.nytimes.com/2019/04/01/opinion/trump-border-mexico.html', 'https://www.nytimes.com/2019/03/27/us/politics/trump-russia-venezuela.html']\n"
     ]
    }
   ],
   "source": [
    "Visa_keyword=[]\n",
    "key3 = open(\"D:/Data Intensive Computing/Lab2/Ash data/DATA/NYT/visa.txt\",\"a\",encoding=\"utf-8\") \n",
    "for i in range(0,len(parsed_3)):\n",
    "    page_link_v = parsed_3[i]['url']\n",
    "    Visa_keyword.append(page_link_v)\n",
    "    page_response_v = requests.get(page_link_v, timeout=5)\n",
    "    soup_v = BeautifulSoup(page_response.content, \"html.parser\")        \n",
    "\n",
    "    for  tag in range(0, len(soup_v.find_all(\"p\"))):\n",
    "            paragraphs = soup_v.find_all(\"p\")[tag].text\n",
    "            #print(\"paragraphs\",paragraphs)\n",
    "            key3.write(paragraphs)\n",
    "            \n",
    "with open('D:/Data Intensive Computing/Lab2/Ash data/DATA/NYT/visa.csv', 'w') as csvFile:\n",
    "    writer = csv.writer(csvFile)\n",
    "    writer.writerows([Visa_keyword])\n",
    "key3.close()\n",
    "csvFile.close()\n",
    "print(Visa_keyword)"
   ]
  },
  {
   "cell_type": "code",
   "execution_count": 20,
   "metadata": {},
   "outputs": [
    {
     "data": {
      "text/plain": [
       "10"
      ]
     },
     "execution_count": 20,
     "metadata": {},
     "output_type": "execute_result"
    }
   ],
   "source": [
    "len(Visa_keyword)"
   ]
  },
  {
   "cell_type": "markdown",
   "metadata": {},
   "source": [
    "## Policy Immigration"
   ]
  },
  {
   "cell_type": "code",
   "execution_count": 22,
   "metadata": {},
   "outputs": [
    {
     "name": "stdout",
     "output_type": "stream",
     "text": [
      "['https://www.nytimes.com/2019/03/29/opinion/iran-us-foreign-policy.html', 'https://www.nytimes.com/2019/03/30/us/politics/pompeo-christian-policy.html', 'https://www.nytimes.com/2019/04/01/world/americas/mexico-migration-border.html', 'https://www.nytimes.com/2019/03/30/world/americas/trump-turns-us-policy-in-central-america-on-its-head.html', 'https://www.nytimes.com/2019/04/02/world/americas/us-immigration-crackdown.html', 'https://www.nytimes.com/2019/04/04/us/lds-church-lgbt.html', 'https://www.nytimes.com/2019/04/03/technology/artificial-intelligence-privacy-oecd.html', 'https://www.nytimes.com/2019/04/03/opinion/latino-voters.html', 'https://www.nytimes.com/2019/04/04/health/memorial-sloan-kettering-conflicts-.html', 'https://www.nytimes.com/2019/04/03/books/review/arthur-c-brooks-love-your-enemies.html']\n"
     ]
    }
   ],
   "source": [
    "policy_immigration_keyword=[]\n",
    "key4 = open(\"D:/Data Intensive Computing/Lab2/Ash data/DATA/NYT/policy.txt\",\"a\",encoding=\"utf-8\") \n",
    "for i in range(0,len(parsed_4)):\n",
    "    page_link = parsed_4[i]['url']\n",
    "    policy_immigration_keyword.append(page_link)\n",
    "    page_response = requests.get(page_link, timeout=5)\n",
    "    soup = BeautifulSoup(page_response.content, \"html.parser\")        \n",
    "\n",
    "    for  tag in range(0, len(soup.find_all(\"p\"))):\n",
    "            paragraphs = soup.find_all(\"p\")[tag].text\n",
    "            key4.write(paragraphs)\n",
    "with open('D:/Data Intensive Computing/Lab2/Ash data/DATA/NYT/policy.csv', 'a') as csvFile:\n",
    "    writer = csv.writer(csvFile)\n",
    "    writer.writerows([policy_immigration_keyword])\n",
    "key4.close()\n",
    "csvFile.close()\n",
    "print(policy_immigration_keyword)"
   ]
  },
  {
   "cell_type": "code",
   "execution_count": 23,
   "metadata": {},
   "outputs": [
    {
     "data": {
      "text/plain": [
       "10"
      ]
     },
     "execution_count": 23,
     "metadata": {},
     "output_type": "execute_result"
    }
   ],
   "source": [
    "len(policy_immigration_keyword)"
   ]
  },
  {
   "cell_type": "markdown",
   "metadata": {},
   "source": [
    "## Legal Immigration"
   ]
  },
  {
   "cell_type": "code",
   "execution_count": 26,
   "metadata": {},
   "outputs": [
    {
     "name": "stdout",
     "output_type": "stream",
     "text": [
      "[]\n"
     ]
    }
   ],
   "source": [
    "legal_immigration_keyword=[]\n",
    "key5 = open('D:/Data Intensive Computing/Lab2/Ash data/DATA/NYT/legalweek1.txt',\"a\",encoding=\"utf-8\") \n",
    "for i in range(0,len(parsed_5)):\n",
    "    page_link = parsed_5[i]['url']\n",
    "    legal_immigration_keyword.append(page_link)\n",
    "    page_response = requests.get(page_link, timeout=5)\n",
    "    soup = BeautifulSoup(page_response.content, \"html.parser\")        \n",
    "\n",
    "    for  tag in range(0, len(soup.find_all(\"p\"))):\n",
    "            paragraphs = soup.find_all(\"p\")[tag].text\n",
    "            key5.write(paragraphs)\n",
    "with open('D:/Data Intensive Computing/Lab2/Ash data/DATA/NYT/legalweek1.csv', 'a') as csvFile:\n",
    "    writer = csv.writer(csvFile)\n",
    "    writer.writerows([legal_immigration_keyword])\n",
    "key5.close()\n",
    "csvFile.close()\n",
    "print(legal_immigration_keyword)"
   ]
  },
  {
   "cell_type": "markdown",
   "metadata": {},
   "source": [
    "## Illegal Immigration"
   ]
  },
  {
   "cell_type": "code",
   "execution_count": 28,
   "metadata": {},
   "outputs": [
    {
     "name": "stdout",
     "output_type": "stream",
     "text": [
      "['https://www.nytimes.com/2019/04/04/us/politics/mexico-border-trump.html', 'https://www.nytimes.com/2019/04/04/us/texas-immigration-raid.html', 'https://www.nytimes.com/2019/03/29/us/el-paso-immigration-photo.html', 'https://www.nytimes.com/2019/03/30/us/border-migrants-el-paso-bridge-spring-surge.html', 'https://www.nytimes.com/2019/03/31/us/politics/trump-mulvaney-border-close-mexico.html', 'https://www.nytimes.com/2019/03/28/us/politics/trump-central-america-immigration.html', 'https://www.nytimes.com/2019/04/01/us/politics/trump-border-closing-economy.html', 'https://www.nytimes.com/2019/03/31/us/el-paso-bridge-migrants.html', 'https://www.nytimes.com/video/us/politics/100000006445635/trump-mexico-border-drugs.html', 'https://www.nytimes.com/2019/04/02/opinion/trump-border-mexico.html']\n"
     ]
    }
   ],
   "source": [
    "illegal_immigration=[]\n",
    "key6 = open(\"D:/Data Intensive Computing/Lab2/Ash data/DATA/NYT/illegalweek1.txt\",\"a\",encoding=\"utf-8\") \n",
    "for i in range(0,len(parsed_6)):\n",
    "    page_link = parsed_6[i]['url']\n",
    "    illegal_immigration.append(page_link)\n",
    "    page_response = requests.get(page_link, timeout=5)\n",
    "    soup = BeautifulSoup(page_response.content, \"html.parser\")        \n",
    "\n",
    "    for  tag in range(0, len(soup.find_all(\"p\"))):\n",
    "            paragraphs = soup.find_all(\"p\")[tag].text\n",
    "            key6.write(paragraphs)\n",
    "with open('D:/Data Intensive Computing/Lab2/Ash data/DATA/NYT/illegalweek1.csv', 'a') as csvFile:\n",
    "    writer = csv.writer(csvFile)\n",
    "    writer.writerows([illegal_immigration])\n",
    "key6.close()\n",
    "csvFile.close()\n",
    "print(illegal_immigration)"
   ]
  },
  {
   "cell_type": "code",
   "execution_count": 29,
   "metadata": {},
   "outputs": [
    {
     "data": {
      "text/plain": [
       "10"
      ]
     },
     "execution_count": 29,
     "metadata": {},
     "output_type": "execute_result"
    }
   ],
   "source": [
    "len(illegal_immigration)"
   ]
  },
  {
   "cell_type": "markdown",
   "metadata": {},
   "source": [
    "## Immigration Laws"
   ]
  },
  {
   "cell_type": "code",
   "execution_count": 33,
   "metadata": {},
   "outputs": [
    {
     "name": "stdout",
     "output_type": "stream",
     "text": [
      "['https://www.nytimes.com/2019/03/29/us/politics/trump-mexico-illegal-immigration.html', 'https://www.nytimes.com/2019/03/28/us/politics/trump-central-america-immigration.html', 'https://www.nytimes.com/2019/04/01/opinion/trump-border-mexico.html', 'https://www.nytimes.com/2019/03/31/us/politics/trump-mulvaney-border-close-mexico.html']\n"
     ]
    }
   ],
   "source": [
    "mexican_immigration=[]\n",
    "key8 = open(\"D:/Data Intensive Computing/Lab2/Ash data/DATA/NYT/mexican_immigrantsweek1.txt\",\"a\",encoding=\"utf-8\") \n",
    "for i in range(0,len(parsed_7)):\n",
    "    page_link = parsed_7[i]['url']\n",
    "    mexican_immigration.append(page_link)\n",
    "    page_response = requests.get(page_link, timeout=5)\n",
    "    soup = BeautifulSoup(page_response.content, \"html.parser\")        \n",
    "\n",
    "    for  tag in range(0, len(soup.find_all(\"p\"))):\n",
    "            paragraphs = soup.find_all(\"p\")[tag].text\n",
    "            key8.write(paragraphs)\n",
    "with open('D:/Data Intensive Computing/Lab2/Ash data/DATA/NYT/mexican_immigrantweek1.csv', 'a') as csvFile:\n",
    "    writer = csv.writer(csvFile)\n",
    "    writer.writerows([mexican_immigration])\n",
    "key8.close()\n",
    "csvFile.close()\n",
    "print(mexican_immigration)"
   ]
  },
  {
   "cell_type": "code",
   "execution_count": 34,
   "metadata": {},
   "outputs": [
    {
     "data": {
      "text/plain": [
       "4"
      ]
     },
     "execution_count": 34,
     "metadata": {},
     "output_type": "execute_result"
    }
   ],
   "source": [
    "len(mexican_immigration)"
   ]
  },
  {
   "cell_type": "markdown",
   "metadata": {},
   "source": [
    "## DACA"
   ]
  },
  {
   "cell_type": "code",
   "execution_count": 36,
   "metadata": {},
   "outputs": [
    {
     "name": "stdout",
     "output_type": "stream",
     "text": [
      "['https://www.nytimes.com/2019/04/02/us/border-patrol-protest-univ-of-arizona.html', 'https://www.nytimes.com/2019/04/03/business/economy/immigration-labor-economy.html']\n"
     ]
    }
   ],
   "source": [
    "\n",
    "daca_keyword=[]\n",
    "key9 = open(\"D:/Data Intensive Computing/Lab2/Ash data/DATA/NYT/daca.txt\",\"a\",encoding=\"utf-8\") \n",
    "for i in range(0,len(parsed_9)):\n",
    "    page_link = parsed_9[i]['url']\n",
    "    daca_keyword.append(page_link)\n",
    "    page_response = requests.get(page_link, timeout=5)\n",
    "    soup = BeautifulSoup(page_response.content, \"html.parser\")        \n",
    "\n",
    "    for  tag in range(0, len(soup.find_all(\"p\"))):\n",
    "            paragraphs = soup.find_all(\"p\")[tag].text\n",
    "            #print(paragraphs)\n",
    "            key9.write(paragraphs)\n",
    "with open('D:/Data Intensive Computing/Lab2/Ash data/DATA/NYT/daca_nytimes.csv', 'a') as csvFile:\n",
    "    writer = csv.writer(csvFile)\n",
    "    writer.writerows([daca_keyword])\n",
    "key9.close()\n",
    "csvFile.close()\n",
    "print(daca_keyword)"
   ]
  },
  {
   "cell_type": "markdown",
   "metadata": {},
   "source": [
    "## Immigration Crisis\n"
   ]
  },
  {
   "cell_type": "code",
   "execution_count": 38,
   "metadata": {},
   "outputs": [
    {
     "name": "stdout",
     "output_type": "stream",
     "text": [
      "['https://www.nytimes.com/2019/04/03/opinion/joe-biden-media.html']\n"
     ]
    }
   ],
   "source": [
    "crisis_keyword=[]\n",
    "key10 = open(\"D:/Data Intensive Computing/Lab2/Ash data/DATA/NYT/crisis.txt\",\"a\",encoding=\"utf-8\") \n",
    "for i in range(0,len(parsed_10)):\n",
    "    page_link = parsed_10[i]['url']\n",
    "    crisis_keyword.append(page_link)\n",
    "    page_response = requests.get(page_link, timeout=5)\n",
    "    soup = BeautifulSoup(page_response.content, \"html.parser\")        \n",
    "\n",
    "    for  tag in range(0, len(soup.find_all(\"p\"))):\n",
    "            paragraphs = soup.find_all(\"p\")[tag].text\n",
    "            #print(paragraphs)\n",
    "            key10.write(paragraphs)\n",
    "with open('D:/Data Intensive Computing/Lab2/Ash data/DATA/NYT/crisis_nytimes.csv', 'a') as csvFile:\n",
    "    writer = csv.writer(csvFile)\n",
    "    writer.writerows([crisis_keyword])\n",
    "key10.close()\n",
    "csvFile.close()\n",
    "print(crisis_keyword)"
   ]
  },
  {
   "cell_type": "code",
   "execution_count": 40,
   "metadata": {},
   "outputs": [],
   "source": [
    "a = pd.read_csv(\"D:/Data Intensive Computing/Lab2/Ash data/DATA/NYT/crisis_nytimes.csv\")\n",
    "b = pd.read_csv(\"D:/Data Intensive Computing/Lab2/Ash data/DATA/NYT/daca_nytimes.csv\")\n",
    "c = pd.read_csv(\"D:/Data Intensive Computing/Lab2/Ash data/DATA/NYT/illegalweek1.csv\")\n",
    "d = pd.read_csv(\"D:/Data Intensive Computing/Lab2/Ash data/DATA/NYT/immigrants_nytimes.csv\")\n",
    "e = pd.read_csv(\"D:/Data Intensive Computing/Lab2/Ash data/DATA/NYT/immigration_nytimes.csv\")\n",
    "f = pd.read_csv(\"D:/Data Intensive Computing/Lab2/Ash data/DATA/NYT/lawsweek1.csv\")\n",
    "g = pd.read_csv(\"D:/Data Intensive Computing/Lab2/Ash data/DATA/NYT/legalweek1.csv\")\n",
    "h = pd.read_csv(\"D:/Data Intensive Computing/Lab2/Ash data/DATA/NYT/mexican_immigrantweek1.csv\")\n",
    "i = pd.read_csv(\"D:/Data Intensive Computing/Lab2/Ash data/DATA/NYT/policy.csv\")\n",
    "j = pd.read_csv(\"D:/Data Intensive Computing/Lab2/Ash data/DATA/NYT/visa.csv\")"
   ]
  },
  {
   "cell_type": "markdown",
   "metadata": {},
   "source": [
    "## Please note fot the puropse of submission we copied the New york times data collection in a new ipynb file,in the case of missing code please find the original scipt can be found in the textmining.ipynb file"
   ]
  },
  {
   "cell_type": "code",
   "execution_count": null,
   "metadata": {},
   "outputs": [],
   "source": []
  }
 ],
 "metadata": {
  "kernelspec": {
   "display_name": "Python 3",
   "language": "python",
   "name": "python3"
  },
  "language_info": {
   "codemirror_mode": {
    "name": "ipython",
    "version": 3
   },
   "file_extension": ".py",
   "mimetype": "text/x-python",
   "name": "python",
   "nbconvert_exporter": "python",
   "pygments_lexer": "ipython3",
   "version": "3.7.0"
  }
 },
 "nbformat": 4,
 "nbformat_minor": 2
}
